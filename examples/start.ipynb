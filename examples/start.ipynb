{
 "cells": [
  {
   "cell_type": "code",
   "execution_count": null,
   "id": "c91e3b3e",
   "metadata": {},
   "outputs": [
    {
     "name": "stdout",
     "output_type": "stream",
     "text": [
      "/Users/iainbanks/code/dkormann/tinycombinator\n",
      "Obtaining file:///Users/iainbanks/code/dkormann/tinycombinator\n",
      "  Installing build dependencies ... \u001b[?25ldone\n",
      "\u001b[?25h  Checking if build backend supports build_editable ... \u001b[?25ldone\n",
      "\u001b[?25h  Getting requirements to build editable ... \u001b[?25ldone\n",
      "\u001b[?25h  Preparing editable metadata (pyproject.toml) ... \u001b[?25ldone\n",
      "\u001b[?25hBuilding wheels for collected packages: tinycombinator\n",
      "  Building editable for tinycombinator (pyproject.toml) ... \u001b[?25ldone\n",
      "\u001b[?25h  Created wheel for tinycombinator: filename=tinycombinator-0.1.0-0.editable-py3-none-any.whl size=3871 sha256=fecdb891c29e059dd335587dd8e155e667436ba9a29bb195d97bbb6c9bbc6dd7\n",
      "  Stored in directory: /private/var/folders/xp/pww9hmdj2ld8f97njqr_qhc40000gn/T/pip-ephem-wheel-cache-6a39edrh/wheels/fa/49/43/0bcbffda015eab3063318c94c520c3ceb080e9b8b821b617c8\n",
      "Successfully built tinycombinator\n",
      "Installing collected packages: tinycombinator\n",
      "  Attempting uninstall: tinycombinator\n",
      "    Found existing installation: tinycombinator 0.1.0\n",
      "    Uninstalling tinycombinator-0.1.0:\n",
      "      Successfully uninstalled tinycombinator-0.1.0\n",
      "Successfully installed tinycombinator-0.1.0\n",
      "\n",
      "\u001b[1m[\u001b[0m\u001b[34;49mnotice\u001b[0m\u001b[1;39;49m]\u001b[0m\u001b[39;49m A new release of pip is available: \u001b[0m\u001b[31;49m25.0.1\u001b[0m\u001b[39;49m -> \u001b[0m\u001b[32;49m25.3\u001b[0m\n",
      "\u001b[1m[\u001b[0m\u001b[34;49mnotice\u001b[0m\u001b[1;39;49m]\u001b[0m\u001b[39;49m To update, run: \u001b[0m\u001b[32;49mpython3.11 -m pip install --upgrade pip\u001b[0m\n",
      "Note: you may need to restart the kernel to use updated packages.\n"
     ]
    }
   ],
   "source": [
    "%cd ..\n",
    "%pip install -e .\n"
   ]
  },
  {
   "cell_type": "code",
   "execution_count": 5,
   "id": "85610271",
   "metadata": {},
   "outputs": [
    {
     "name": "stdout",
     "output_type": "stream",
     "text": [
      "/Users/iainbanks/code/dkormann/tinycombinator/examples\n"
     ]
    }
   ],
   "source": [
    "%cd examples"
   ]
  },
  {
   "cell_type": "code",
   "execution_count": 6,
   "id": "1470c9d2",
   "metadata": {},
   "outputs": [],
   "source": [
    "from tinycombinator import Node"
   ]
  },
  {
   "cell_type": "code",
   "execution_count": null,
   "id": "6faa6ba9",
   "metadata": {},
   "outputs": [],
   "source": []
  }
 ],
 "metadata": {
  "kernelspec": {
   "display_name": "Python 3",
   "language": "python",
   "name": "python3"
  },
  "language_info": {
   "codemirror_mode": {
    "name": "ipython",
    "version": 3
   },
   "file_extension": ".py",
   "mimetype": "text/x-python",
   "name": "python",
   "nbconvert_exporter": "python",
   "pygments_lexer": "ipython3",
   "version": "3.11.11"
  }
 },
 "nbformat": 4,
 "nbformat_minor": 5
}
