{
 "cells": [
  {
   "cell_type": "code",
   "execution_count": 1,
   "id": "c91e3b3e",
   "metadata": {},
   "outputs": [],
   "source": [
    "# # if you want to install the package first:\n",
    "# %cd ..\n",
    "# %pip install -e ."
   ]
  },
  {
   "cell_type": "code",
   "execution_count": 2,
   "id": "1470c9d2",
   "metadata": {},
   "outputs": [],
   "source": [
    "from tinycombinator import Node, execute"
   ]
  },
  {
   "cell_type": "markdown",
   "id": "70a90d06",
   "metadata": {},
   "source": [
    "create lambda expressions from python functions:"
   ]
  },
  {
   "cell_type": "code",
   "execution_count": 8,
   "id": "6dc2ba5e",
   "metadata": {},
   "outputs": [
    {
     "data": {
      "text/plain": [
       "λa λb (\n",
       "  a\n",
       "  b)"
      ]
     },
     "execution_count": 8,
     "metadata": {},
     "output_type": "execute_result"
    }
   ],
   "source": [
    "N1 = Node(lambda x: x)\n",
    "N2 = Node(lambda x,y: x(y))\n",
    "\n",
    "N2"
   ]
  },
  {
   "cell_type": "markdown",
   "id": "a24ee338",
   "metadata": {},
   "source": [
    "application naturally translates to function application:"
   ]
  },
  {
   "cell_type": "code",
   "execution_count": null,
   "id": "299c2180",
   "metadata": {},
   "outputs": [
    {
     "data": {
      "text/plain": [
       "(\n",
       "  λa a\n",
       "  λb λc ( b c))"
      ]
     },
     "execution_count": 4,
     "metadata": {},
     "output_type": "execute_result"
    }
   ],
   "source": [
    "N1(N2)"
   ]
  },
  {
   "cell_type": "markdown",
   "id": "b6bb0822",
   "metadata": {},
   "source": [
    "execute on the fast C runtime:"
   ]
  },
  {
   "cell_type": "code",
   "execution_count": 7,
   "id": "6f86a472",
   "metadata": {},
   "outputs": [
    {
     "data": {
      "text/plain": [
       "λa λb (\n",
       "  a\n",
       "  b)"
      ]
     },
     "execution_count": 7,
     "metadata": {},
     "output_type": "execute_result"
    }
   ],
   "source": [
    "result = execute(N1(N2))\n",
    "result"
   ]
  }
 ],
 "metadata": {
  "kernelspec": {
   "display_name": "Python 3",
   "language": "python",
   "name": "python3"
  },
  "language_info": {
   "codemirror_mode": {
    "name": "ipython",
    "version": 3
   },
   "file_extension": ".py",
   "mimetype": "text/x-python",
   "name": "python",
   "nbconvert_exporter": "python",
   "pygments_lexer": "ipython3",
   "version": "3.11.11"
  }
 },
 "nbformat": 4,
 "nbformat_minor": 5
}
